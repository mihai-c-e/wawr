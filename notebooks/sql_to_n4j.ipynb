{
 "cells": [
  {
   "cell_type": "code",
   "execution_count": 1,
   "id": "initial_id",
   "metadata": {
    "collapsed": true,
    "ExecuteTime": {
     "end_time": "2024-02-17T12:34:49.336571200Z",
     "start_time": "2024-02-17T12:34:47.594773600Z"
    }
   },
   "outputs": [],
   "source": [
    "from dotenv import load_dotenv\n",
    "load_dotenv('../wawr_ingestion.env')\n",
    "from ekb.base.sql_interface import Session\n",
    "import pandas as pd"
   ]
  },
  {
   "cell_type": "code",
   "execution_count": 2,
   "outputs": [],
   "source": [
    "nodes = pd.read_sql(sql=\"select * from elements where record_type='node'\", con=Session().get_bind())"
   ],
   "metadata": {
    "collapsed": false,
    "ExecuteTime": {
     "end_time": "2024-02-17T12:35:01.468576400Z",
     "start_time": "2024-02-17T12:34:49.336571200Z"
    }
   },
   "id": "d870331f37997379"
  },
  {
   "cell_type": "code",
   "execution_count": 3,
   "outputs": [
    {
     "data": {
      "text/plain": "      record_type          id        type_id  \\\n0            node  2109.02707  PaperAbstract   \n1            node  2109.02772  PaperAbstract   \n2            node  2109.02837  PaperAbstract   \n3            node  2109.03009  PaperAbstract   \n4            node  2109.03529  PaperAbstract   \n...           ...         ...            ...   \n68857        node  2109.02550  PaperAbstract   \n68858        node  2109.02555  PaperAbstract   \n68859        node  2109.02572  PaperAbstract   \n68860        node  2109.02593  PaperAbstract   \n68861        node  2109.03264  PaperAbstract   \n\n                                                    meta  \\\n0      {'submitter': 'Xueqing Wu', 'authors': 'Xueqin...   \n1      {'submitter': 'Tianxing He', 'authors': 'Tianx...   \n2      {'submitter': 'Kaixin Ma', 'authors': 'Kaixin ...   \n3      {'submitter': 'Haiqin Yang', 'authors': 'Mengy...   \n4      {'submitter': 'Yekun Chai', 'authors': 'Yekun ...   \n...                                                  ...   \n68857  {'submitter': 'Kris Cao', 'authors': 'Kris Cao...   \n68858  {'submitter': 'Milad Moradi', 'authors': 'Mila...   \n68859  {'submitter': 'Wanyun Cui', 'authors': 'Wanyun...   \n68860  {'submitter': 'Peter Clark', 'authors': 'Oyvin...   \n68861  {'submitter': 'Wei-Ning Hsu', 'authors': 'Euge...   \n\n                                                    text  \\\n0        We study a new problem setting of informatio...   \n1        Prompt-based knowledge probing for 1-hop rel...   \n2        Commonsense reasoning benchmarks have been l...   \n3        Recently, large pre-trained neural language ...   \n4        Automatically translating images to texts in...   \n...                                                  ...   \n68857    Neural language models typically tokenise in...   \n68858    Deep neural language models have set new bre...   \n68859    We study how to enhance text representation ...   \n68860    Despite the successes of pretrained language...   \n68861    Speech pre-training has primarily demonstrat...   \n\n                    created_date                date status  \n0     2024-02-04 21:10:39.869479 2021-09-06 19:35:46         \n1     2024-02-04 21:10:39.869479 2021-09-06 23:29:36         \n2     2024-02-04 21:10:39.869980 2021-09-07 03:13:06         \n3     2024-02-04 21:10:39.869980 2021-09-07 11:48:23         \n4     2024-02-04 21:10:39.870480 2021-09-08 10:12:14         \n...                          ...                 ...    ...  \n68857 2024-02-04 21:10:39.868980 2021-09-06 15:37:02         \n68858 2024-02-04 21:10:39.869479 2021-09-06 15:50:37         \n68859 2024-02-04 21:10:39.869479 2021-09-06 16:16:10         \n68860 2024-02-04 21:10:39.869479 2021-09-06 16:37:46         \n68861 2024-02-04 21:10:39.870480 2021-09-07 18:03:21         \n\n[68862 rows x 8 columns]",
      "text/html": "<div>\n<style scoped>\n    .dataframe tbody tr th:only-of-type {\n        vertical-align: middle;\n    }\n\n    .dataframe tbody tr th {\n        vertical-align: top;\n    }\n\n    .dataframe thead th {\n        text-align: right;\n    }\n</style>\n<table border=\"1\" class=\"dataframe\">\n  <thead>\n    <tr style=\"text-align: right;\">\n      <th></th>\n      <th>record_type</th>\n      <th>id</th>\n      <th>type_id</th>\n      <th>meta</th>\n      <th>text</th>\n      <th>created_date</th>\n      <th>date</th>\n      <th>status</th>\n    </tr>\n  </thead>\n  <tbody>\n    <tr>\n      <th>0</th>\n      <td>node</td>\n      <td>2109.02707</td>\n      <td>PaperAbstract</td>\n      <td>{'submitter': 'Xueqing Wu', 'authors': 'Xueqin...</td>\n      <td>We study a new problem setting of informatio...</td>\n      <td>2024-02-04 21:10:39.869479</td>\n      <td>2021-09-06 19:35:46</td>\n      <td></td>\n    </tr>\n    <tr>\n      <th>1</th>\n      <td>node</td>\n      <td>2109.02772</td>\n      <td>PaperAbstract</td>\n      <td>{'submitter': 'Tianxing He', 'authors': 'Tianx...</td>\n      <td>Prompt-based knowledge probing for 1-hop rel...</td>\n      <td>2024-02-04 21:10:39.869479</td>\n      <td>2021-09-06 23:29:36</td>\n      <td></td>\n    </tr>\n    <tr>\n      <th>2</th>\n      <td>node</td>\n      <td>2109.02837</td>\n      <td>PaperAbstract</td>\n      <td>{'submitter': 'Kaixin Ma', 'authors': 'Kaixin ...</td>\n      <td>Commonsense reasoning benchmarks have been l...</td>\n      <td>2024-02-04 21:10:39.869980</td>\n      <td>2021-09-07 03:13:06</td>\n      <td></td>\n    </tr>\n    <tr>\n      <th>3</th>\n      <td>node</td>\n      <td>2109.03009</td>\n      <td>PaperAbstract</td>\n      <td>{'submitter': 'Haiqin Yang', 'authors': 'Mengy...</td>\n      <td>Recently, large pre-trained neural language ...</td>\n      <td>2024-02-04 21:10:39.869980</td>\n      <td>2021-09-07 11:48:23</td>\n      <td></td>\n    </tr>\n    <tr>\n      <th>4</th>\n      <td>node</td>\n      <td>2109.03529</td>\n      <td>PaperAbstract</td>\n      <td>{'submitter': 'Yekun Chai', 'authors': 'Yekun ...</td>\n      <td>Automatically translating images to texts in...</td>\n      <td>2024-02-04 21:10:39.870480</td>\n      <td>2021-09-08 10:12:14</td>\n      <td></td>\n    </tr>\n    <tr>\n      <th>...</th>\n      <td>...</td>\n      <td>...</td>\n      <td>...</td>\n      <td>...</td>\n      <td>...</td>\n      <td>...</td>\n      <td>...</td>\n      <td>...</td>\n    </tr>\n    <tr>\n      <th>68857</th>\n      <td>node</td>\n      <td>2109.02550</td>\n      <td>PaperAbstract</td>\n      <td>{'submitter': 'Kris Cao', 'authors': 'Kris Cao...</td>\n      <td>Neural language models typically tokenise in...</td>\n      <td>2024-02-04 21:10:39.868980</td>\n      <td>2021-09-06 15:37:02</td>\n      <td></td>\n    </tr>\n    <tr>\n      <th>68858</th>\n      <td>node</td>\n      <td>2109.02555</td>\n      <td>PaperAbstract</td>\n      <td>{'submitter': 'Milad Moradi', 'authors': 'Mila...</td>\n      <td>Deep neural language models have set new bre...</td>\n      <td>2024-02-04 21:10:39.869479</td>\n      <td>2021-09-06 15:50:37</td>\n      <td></td>\n    </tr>\n    <tr>\n      <th>68859</th>\n      <td>node</td>\n      <td>2109.02572</td>\n      <td>PaperAbstract</td>\n      <td>{'submitter': 'Wanyun Cui', 'authors': 'Wanyun...</td>\n      <td>We study how to enhance text representation ...</td>\n      <td>2024-02-04 21:10:39.869479</td>\n      <td>2021-09-06 16:16:10</td>\n      <td></td>\n    </tr>\n    <tr>\n      <th>68860</th>\n      <td>node</td>\n      <td>2109.02593</td>\n      <td>PaperAbstract</td>\n      <td>{'submitter': 'Peter Clark', 'authors': 'Oyvin...</td>\n      <td>Despite the successes of pretrained language...</td>\n      <td>2024-02-04 21:10:39.869479</td>\n      <td>2021-09-06 16:37:46</td>\n      <td></td>\n    </tr>\n    <tr>\n      <th>68861</th>\n      <td>node</td>\n      <td>2109.03264</td>\n      <td>PaperAbstract</td>\n      <td>{'submitter': 'Wei-Ning Hsu', 'authors': 'Euge...</td>\n      <td>Speech pre-training has primarily demonstrat...</td>\n      <td>2024-02-04 21:10:39.870480</td>\n      <td>2021-09-07 18:03:21</td>\n      <td></td>\n    </tr>\n  </tbody>\n</table>\n<p>68862 rows × 8 columns</p>\n</div>"
     },
     "execution_count": 3,
     "metadata": {},
     "output_type": "execute_result"
    }
   ],
   "source": [
    "nodes"
   ],
   "metadata": {
    "collapsed": false,
    "ExecuteTime": {
     "end_time": "2024-02-17T12:35:01.604079600Z",
     "start_time": "2024-02-17T12:35:01.456079100Z"
    }
   },
   "id": "8bdd44bd5c22cf67"
  },
  {
   "cell_type": "code",
   "execution_count": 4,
   "outputs": [
    {
     "name": "stderr",
     "output_type": "stream",
     "text": [
      "C:\\Users\\Mihai\\AppData\\Local\\Temp\\ipykernel_11208\\1717915931.py:1: FutureWarning: Returning a DataFrame from Series.apply when the supplied function returns a Series is deprecated and will be removed in a future version.\n",
      "  meta_series = nodes['meta'].apply(pd.Series)\n"
     ]
    }
   ],
   "source": [
    "meta_series = nodes['meta'].apply(pd.Series)"
   ],
   "metadata": {
    "collapsed": false,
    "ExecuteTime": {
     "end_time": "2024-02-17T12:35:25.732605700Z",
     "start_time": "2024-02-17T12:35:01.518079900Z"
    }
   },
   "id": "7000afc79fee107c"
  },
  {
   "cell_type": "code",
   "execution_count": 5,
   "outputs": [
    {
     "data": {
      "text/plain": "Index(['submitter', 'authors', 'title', 'comments', 'journal-ref', 'doi',\n       'report-no', 'categories', 'license', 'versions', 'update_date',\n       'authors_parsed', 'lm'],\n      dtype='object')"
     },
     "execution_count": 5,
     "metadata": {},
     "output_type": "execute_result"
    }
   ],
   "source": [
    "meta_series.columns"
   ],
   "metadata": {
    "collapsed": false,
    "ExecuteTime": {
     "end_time": "2024-02-17T12:35:25.801101400Z",
     "start_time": "2024-02-17T12:35:25.736606800Z"
    }
   },
   "id": "b90e40adf3c04695"
  },
  {
   "cell_type": "code",
   "execution_count": 6,
   "outputs": [
    {
     "data": {
      "text/plain": "Index(['record_type', 'id', 'type_id', 'meta', 'text', 'created_date', 'date',\n       'status'],\n      dtype='object')"
     },
     "execution_count": 6,
     "metadata": {},
     "output_type": "execute_result"
    }
   ],
   "source": [
    "nodes.columns"
   ],
   "metadata": {
    "collapsed": false,
    "ExecuteTime": {
     "end_time": "2024-02-17T12:35:25.832109600Z",
     "start_time": "2024-02-17T12:35:25.760605600Z"
    }
   },
   "id": "e9da635dc21b34fc"
  },
  {
   "cell_type": "code",
   "execution_count": 38,
   "outputs": [],
   "source": [
    "nodes.loc[nodes[\"type_id\"]==\"GraphNode\", \"type_id\"]=\"Knowledge\"\n",
    "nodes.loc[(nodes[\"id\"].str.startswith(\"entity\")), \"type_id\"]=\"Entity\"\n"
   ],
   "metadata": {
    "collapsed": false,
    "ExecuteTime": {
     "end_time": "2024-02-17T13:06:19.890485400Z",
     "start_time": "2024-02-17T13:06:19.823991700Z"
    }
   },
   "id": "37e5c804391300ed"
  },
  {
   "cell_type": "code",
   "execution_count": 39,
   "outputs": [
    {
     "data": {
      "text/plain": "    record_type                                         id type_id meta  \\\n30         node  entity:audio hallucination classification  Entity   {}   \n41         node                               entity:GPT-3  Entity   {}   \n67         node       entity:pre-trained audio-text models  Entity   {}   \n98         node                     entity:MIA experiments  Entity   {}   \n99         node              entity_type:project component  Entity   {}   \n100        node            entity:Embedding Attack Project  Entity   {}   \n120        node                      entity:MIA strategies  Entity   {}   \n122        node                           entity:AI models  Entity   {}   \n123        node               entity:model's vulnerability  Entity   {}   \n124        node                        entity_type:subject  Entity   {}   \n\n                                   text               created_date date status  \n30   audio hallucination classification 2024-02-11 13:22:48.844188  NaT         \n41                                GPT-3 2024-02-11 14:42:32.057781  NaT         \n67        pre-trained audio-text models 2024-02-11 13:22:48.844688  NaT         \n98                      MIA experiments 2024-02-11 13:20:00.303709  NaT         \n99                    project component 2024-02-11 13:20:00.303709  NaT         \n100            Embedding Attack Project 2024-02-11 13:20:00.303709  NaT         \n120                      MIA strategies 2024-02-11 13:20:00.304209  NaT         \n122                           AI models 2024-02-11 14:43:08.640281  NaT         \n123               model's vulnerability 2024-02-11 13:20:00.305209  NaT         \n124                             subject 2024-02-11 14:43:40.917781  NaT         ",
      "text/html": "<div>\n<style scoped>\n    .dataframe tbody tr th:only-of-type {\n        vertical-align: middle;\n    }\n\n    .dataframe tbody tr th {\n        vertical-align: top;\n    }\n\n    .dataframe thead th {\n        text-align: right;\n    }\n</style>\n<table border=\"1\" class=\"dataframe\">\n  <thead>\n    <tr style=\"text-align: right;\">\n      <th></th>\n      <th>record_type</th>\n      <th>id</th>\n      <th>type_id</th>\n      <th>meta</th>\n      <th>text</th>\n      <th>created_date</th>\n      <th>date</th>\n      <th>status</th>\n    </tr>\n  </thead>\n  <tbody>\n    <tr>\n      <th>30</th>\n      <td>node</td>\n      <td>entity:audio hallucination classification</td>\n      <td>Entity</td>\n      <td>{}</td>\n      <td>audio hallucination classification</td>\n      <td>2024-02-11 13:22:48.844188</td>\n      <td>NaT</td>\n      <td></td>\n    </tr>\n    <tr>\n      <th>41</th>\n      <td>node</td>\n      <td>entity:GPT-3</td>\n      <td>Entity</td>\n      <td>{}</td>\n      <td>GPT-3</td>\n      <td>2024-02-11 14:42:32.057781</td>\n      <td>NaT</td>\n      <td></td>\n    </tr>\n    <tr>\n      <th>67</th>\n      <td>node</td>\n      <td>entity:pre-trained audio-text models</td>\n      <td>Entity</td>\n      <td>{}</td>\n      <td>pre-trained audio-text models</td>\n      <td>2024-02-11 13:22:48.844688</td>\n      <td>NaT</td>\n      <td></td>\n    </tr>\n    <tr>\n      <th>98</th>\n      <td>node</td>\n      <td>entity:MIA experiments</td>\n      <td>Entity</td>\n      <td>{}</td>\n      <td>MIA experiments</td>\n      <td>2024-02-11 13:20:00.303709</td>\n      <td>NaT</td>\n      <td></td>\n    </tr>\n    <tr>\n      <th>99</th>\n      <td>node</td>\n      <td>entity_type:project component</td>\n      <td>Entity</td>\n      <td>{}</td>\n      <td>project component</td>\n      <td>2024-02-11 13:20:00.303709</td>\n      <td>NaT</td>\n      <td></td>\n    </tr>\n    <tr>\n      <th>100</th>\n      <td>node</td>\n      <td>entity:Embedding Attack Project</td>\n      <td>Entity</td>\n      <td>{}</td>\n      <td>Embedding Attack Project</td>\n      <td>2024-02-11 13:20:00.303709</td>\n      <td>NaT</td>\n      <td></td>\n    </tr>\n    <tr>\n      <th>120</th>\n      <td>node</td>\n      <td>entity:MIA strategies</td>\n      <td>Entity</td>\n      <td>{}</td>\n      <td>MIA strategies</td>\n      <td>2024-02-11 13:20:00.304209</td>\n      <td>NaT</td>\n      <td></td>\n    </tr>\n    <tr>\n      <th>122</th>\n      <td>node</td>\n      <td>entity:AI models</td>\n      <td>Entity</td>\n      <td>{}</td>\n      <td>AI models</td>\n      <td>2024-02-11 14:43:08.640281</td>\n      <td>NaT</td>\n      <td></td>\n    </tr>\n    <tr>\n      <th>123</th>\n      <td>node</td>\n      <td>entity:model's vulnerability</td>\n      <td>Entity</td>\n      <td>{}</td>\n      <td>model's vulnerability</td>\n      <td>2024-02-11 13:20:00.305209</td>\n      <td>NaT</td>\n      <td></td>\n    </tr>\n    <tr>\n      <th>124</th>\n      <td>node</td>\n      <td>entity_type:subject</td>\n      <td>Entity</td>\n      <td>{}</td>\n      <td>subject</td>\n      <td>2024-02-11 14:43:40.917781</td>\n      <td>NaT</td>\n      <td></td>\n    </tr>\n  </tbody>\n</table>\n</div>"
     },
     "execution_count": 39,
     "metadata": {},
     "output_type": "execute_result"
    }
   ],
   "source": [
    "nodes[nodes[\"type_id\"]==\"Entity\"][:10]"
   ],
   "metadata": {
    "collapsed": false,
    "ExecuteTime": {
     "end_time": "2024-02-17T13:06:24.722489100Z",
     "start_time": "2024-02-17T13:06:24.669489200Z"
    }
   },
   "id": "e764152c92dace42"
  },
  {
   "cell_type": "code",
   "execution_count": 41,
   "outputs": [],
   "source": [
    "cols = [\"id\", \"type_id\", \"text\", \"created_date\", \"date\", \"status\", \"title\"]"
   ],
   "metadata": {
    "collapsed": false,
    "ExecuteTime": {
     "end_time": "2024-02-17T13:07:06.349729700Z",
     "start_time": "2024-02-17T13:07:06.325729900Z"
    }
   },
   "id": "5f7bb93ddd23d95b"
  },
  {
   "cell_type": "code",
   "execution_count": 42,
   "outputs": [],
   "source": [
    "nodes_save=pd.concat((nodes, meta_series), axis=1)[cols]\n",
    "for col in [\"text\", \"title\", \"status\"]:\n",
    "    nodes_save[col] = nodes_save[col].str.replace(\"\\\"\", \"'\")\n",
    "nodes_save.to_csv(\"nodes.csv\", index=False)"
   ],
   "metadata": {
    "collapsed": false,
    "ExecuteTime": {
     "end_time": "2024-02-17T13:07:09.358366400Z",
     "start_time": "2024-02-17T13:07:07.691369900Z"
    }
   },
   "id": "6bb7dcfa6cf2ec7b"
  },
  {
   "cell_type": "code",
   "execution_count": 43,
   "outputs": [
    {
     "data": {
      "text/plain": "(68862, 7)"
     },
     "execution_count": 43,
     "metadata": {},
     "output_type": "execute_result"
    }
   ],
   "source": [
    "nodes_save.shape"
   ],
   "metadata": {
    "collapsed": false,
    "ExecuteTime": {
     "end_time": "2024-02-17T13:16:51.578455800Z",
     "start_time": "2024-02-17T13:16:51.540955100Z"
    }
   },
   "id": "ec5355f47f396506"
  },
  {
   "cell_type": "code",
   "execution_count": 26,
   "outputs": [],
   "source": [
    "relationships = pd.read_sql(sql=\"SELECT * FROM public.relationships a left join elements b on a.id=b.id\", con=Session().get_bind())\n"
   ],
   "metadata": {
    "collapsed": false,
    "ExecuteTime": {
     "end_time": "2024-02-17T12:54:08.407776400Z",
     "start_time": "2024-02-17T12:54:01.650159300Z"
    }
   },
   "id": "7f52e7ad9a9b4f79"
  },
  {
   "cell_type": "code",
   "execution_count": 51,
   "outputs": [],
   "source": [
    "cols = [\"id\", \"from_node_id\", \"to_node_id\", \"text\", \"created_date\", \"date\", \"status\"]\n",
    "for col in [\"text\", \"from_node_id\", \"to_node_id\"]:\n",
    "    relationships[col] = relationships[col].str.replace(\"\\\"\", \"'\")\n",
    "relationships[cols].to_csv('relationships.csv', index=False)"
   ],
   "metadata": {
    "collapsed": false,
    "ExecuteTime": {
     "end_time": "2024-02-17T14:12:26.319180700Z",
     "start_time": "2024-02-17T14:12:24.768622Z"
    }
   },
   "id": "b97ff99b1d4dee49"
  },
  {
   "cell_type": "code",
   "execution_count": 44,
   "outputs": [
    {
     "data": {
      "text/plain": "                                     id  \\\n0  00003994-128e-46db-bd5b-d7a632e849e5   \n1  000076b5-bf54-449b-8fa5-5bf5338ef691   \n2  0000b7d9-f72c-43a8-a1a4-649805314d96   \n3  0001b4ec-7a57-4867-908b-a644458100d3   \n4  0001e4b9-b8cd-4bb8-bebf-6f6d76160995   \n5  00025fc7-6ceb-4f55-81ab-fdaba722f622   \n6  0002c9e7-809d-4c5b-87a4-f1e078ae3a0c   \n7  0002ceed-b492-4374-8204-e5c0516d6aa0   \n8  0003431b-4eb4-4802-87ad-0d77c4aae191   \n9  0003d5db-1227-4b22-8bf9-6289fa5c57ad   \n\n                                     from_node_id  \\\n0            54ae237c-155d-49fc-be1c-18446a5c3131   \n1                  entity:large branching factors   \n2            ad78aa72-cf4d-4d2b-b826-5e2f291e4dfd   \n3         entity:state-of-the-art defense methods   \n4                   entity:Reinforcement learning   \n5       entity:high-quality demonstration samples   \n6                 entity:backbone language models   \n7                entity:external human confidence   \n8       entity:Myers-Briggs Type Indicator (MBTI)   \n9  entity:Pretraining monolingual language models   \n\n                             to_node_id   record_type  \\\n0                      fact_type:result  relationship   \n1  29ddd9ab-105a-43d0-b176-94f50066bdd7  relationship   \n2                            2312.00849  relationship   \n3  6e01b3c1-f586-4b0b-9dec-062ab49edbc4  relationship   \n4  0841d6e5-ea2f-4d2a-af74-2b12a0ce21b0  relationship   \n5  a3663f93-6ee2-4307-bbc5-f898816bc7ab  relationship   \n6  03df95f0-1d15-46be-9b81-b1af7a8da2ad  relationship   \n7  730601ce-c673-490f-9747-ab92b8735744  relationship   \n8                      entity_type:test  relationship   \n9                     entity_type:model  relationship   \n\n                                     id            type_id meta          text  \\\n0  00003994-128e-46db-bd5b-d7a632e849e5  GraphRelationship   {}          is a   \n1  000076b5-bf54-449b-8fa5-5bf5338ef691  GraphRelationship   {}  mentioned in   \n2  0000b7d9-f72c-43a8-a1a4-649805314d96  GraphRelationship   {}  mentioned in   \n3  0001b4ec-7a57-4867-908b-a644458100d3  GraphRelationship   {}  mentioned in   \n4  0001e4b9-b8cd-4bb8-bebf-6f6d76160995  GraphRelationship   {}  mentioned in   \n5  00025fc7-6ceb-4f55-81ab-fdaba722f622  GraphRelationship   {}  mentioned in   \n6  0002c9e7-809d-4c5b-87a4-f1e078ae3a0c  GraphRelationship   {}  mentioned in   \n7  0002ceed-b492-4374-8204-e5c0516d6aa0  GraphRelationship   {}  mentioned in   \n8  0003431b-4eb4-4802-87ad-0d77c4aae191  GraphRelationship   {}          is a   \n9  0003d5db-1227-4b22-8bf9-6289fa5c57ad  GraphRelationship   {}          is a   \n\n                created_date  date status  \n0 2024-02-11 14:02:34.064690  None         \n1 2024-02-11 14:04:43.250000  None         \n2 2024-02-11 14:09:45.259433  None         \n3 2024-02-11 13:58:08.569733  None         \n4 2024-02-11 14:03:23.926423  None         \n5 2024-02-11 14:07:59.496284  None         \n6 2024-02-11 14:34:38.067781  None         \n7 2024-02-11 13:20:11.303055  None         \n8 2024-02-11 13:36:39.458641  None         \n9 2024-02-11 13:26:35.688672  None         ",
      "text/html": "<div>\n<style scoped>\n    .dataframe tbody tr th:only-of-type {\n        vertical-align: middle;\n    }\n\n    .dataframe tbody tr th {\n        vertical-align: top;\n    }\n\n    .dataframe thead th {\n        text-align: right;\n    }\n</style>\n<table border=\"1\" class=\"dataframe\">\n  <thead>\n    <tr style=\"text-align: right;\">\n      <th></th>\n      <th>id</th>\n      <th>from_node_id</th>\n      <th>to_node_id</th>\n      <th>record_type</th>\n      <th>id</th>\n      <th>type_id</th>\n      <th>meta</th>\n      <th>text</th>\n      <th>created_date</th>\n      <th>date</th>\n      <th>status</th>\n    </tr>\n  </thead>\n  <tbody>\n    <tr>\n      <th>0</th>\n      <td>00003994-128e-46db-bd5b-d7a632e849e5</td>\n      <td>54ae237c-155d-49fc-be1c-18446a5c3131</td>\n      <td>fact_type:result</td>\n      <td>relationship</td>\n      <td>00003994-128e-46db-bd5b-d7a632e849e5</td>\n      <td>GraphRelationship</td>\n      <td>{}</td>\n      <td>is a</td>\n      <td>2024-02-11 14:02:34.064690</td>\n      <td>None</td>\n      <td></td>\n    </tr>\n    <tr>\n      <th>1</th>\n      <td>000076b5-bf54-449b-8fa5-5bf5338ef691</td>\n      <td>entity:large branching factors</td>\n      <td>29ddd9ab-105a-43d0-b176-94f50066bdd7</td>\n      <td>relationship</td>\n      <td>000076b5-bf54-449b-8fa5-5bf5338ef691</td>\n      <td>GraphRelationship</td>\n      <td>{}</td>\n      <td>mentioned in</td>\n      <td>2024-02-11 14:04:43.250000</td>\n      <td>None</td>\n      <td></td>\n    </tr>\n    <tr>\n      <th>2</th>\n      <td>0000b7d9-f72c-43a8-a1a4-649805314d96</td>\n      <td>ad78aa72-cf4d-4d2b-b826-5e2f291e4dfd</td>\n      <td>2312.00849</td>\n      <td>relationship</td>\n      <td>0000b7d9-f72c-43a8-a1a4-649805314d96</td>\n      <td>GraphRelationship</td>\n      <td>{}</td>\n      <td>mentioned in</td>\n      <td>2024-02-11 14:09:45.259433</td>\n      <td>None</td>\n      <td></td>\n    </tr>\n    <tr>\n      <th>3</th>\n      <td>0001b4ec-7a57-4867-908b-a644458100d3</td>\n      <td>entity:state-of-the-art defense methods</td>\n      <td>6e01b3c1-f586-4b0b-9dec-062ab49edbc4</td>\n      <td>relationship</td>\n      <td>0001b4ec-7a57-4867-908b-a644458100d3</td>\n      <td>GraphRelationship</td>\n      <td>{}</td>\n      <td>mentioned in</td>\n      <td>2024-02-11 13:58:08.569733</td>\n      <td>None</td>\n      <td></td>\n    </tr>\n    <tr>\n      <th>4</th>\n      <td>0001e4b9-b8cd-4bb8-bebf-6f6d76160995</td>\n      <td>entity:Reinforcement learning</td>\n      <td>0841d6e5-ea2f-4d2a-af74-2b12a0ce21b0</td>\n      <td>relationship</td>\n      <td>0001e4b9-b8cd-4bb8-bebf-6f6d76160995</td>\n      <td>GraphRelationship</td>\n      <td>{}</td>\n      <td>mentioned in</td>\n      <td>2024-02-11 14:03:23.926423</td>\n      <td>None</td>\n      <td></td>\n    </tr>\n    <tr>\n      <th>5</th>\n      <td>00025fc7-6ceb-4f55-81ab-fdaba722f622</td>\n      <td>entity:high-quality demonstration samples</td>\n      <td>a3663f93-6ee2-4307-bbc5-f898816bc7ab</td>\n      <td>relationship</td>\n      <td>00025fc7-6ceb-4f55-81ab-fdaba722f622</td>\n      <td>GraphRelationship</td>\n      <td>{}</td>\n      <td>mentioned in</td>\n      <td>2024-02-11 14:07:59.496284</td>\n      <td>None</td>\n      <td></td>\n    </tr>\n    <tr>\n      <th>6</th>\n      <td>0002c9e7-809d-4c5b-87a4-f1e078ae3a0c</td>\n      <td>entity:backbone language models</td>\n      <td>03df95f0-1d15-46be-9b81-b1af7a8da2ad</td>\n      <td>relationship</td>\n      <td>0002c9e7-809d-4c5b-87a4-f1e078ae3a0c</td>\n      <td>GraphRelationship</td>\n      <td>{}</td>\n      <td>mentioned in</td>\n      <td>2024-02-11 14:34:38.067781</td>\n      <td>None</td>\n      <td></td>\n    </tr>\n    <tr>\n      <th>7</th>\n      <td>0002ceed-b492-4374-8204-e5c0516d6aa0</td>\n      <td>entity:external human confidence</td>\n      <td>730601ce-c673-490f-9747-ab92b8735744</td>\n      <td>relationship</td>\n      <td>0002ceed-b492-4374-8204-e5c0516d6aa0</td>\n      <td>GraphRelationship</td>\n      <td>{}</td>\n      <td>mentioned in</td>\n      <td>2024-02-11 13:20:11.303055</td>\n      <td>None</td>\n      <td></td>\n    </tr>\n    <tr>\n      <th>8</th>\n      <td>0003431b-4eb4-4802-87ad-0d77c4aae191</td>\n      <td>entity:Myers-Briggs Type Indicator (MBTI)</td>\n      <td>entity_type:test</td>\n      <td>relationship</td>\n      <td>0003431b-4eb4-4802-87ad-0d77c4aae191</td>\n      <td>GraphRelationship</td>\n      <td>{}</td>\n      <td>is a</td>\n      <td>2024-02-11 13:36:39.458641</td>\n      <td>None</td>\n      <td></td>\n    </tr>\n    <tr>\n      <th>9</th>\n      <td>0003d5db-1227-4b22-8bf9-6289fa5c57ad</td>\n      <td>entity:Pretraining monolingual language models</td>\n      <td>entity_type:model</td>\n      <td>relationship</td>\n      <td>0003d5db-1227-4b22-8bf9-6289fa5c57ad</td>\n      <td>GraphRelationship</td>\n      <td>{}</td>\n      <td>is a</td>\n      <td>2024-02-11 13:26:35.688672</td>\n      <td>None</td>\n      <td></td>\n    </tr>\n  </tbody>\n</table>\n</div>"
     },
     "execution_count": 44,
     "metadata": {},
     "output_type": "execute_result"
    }
   ],
   "source": [
    "relationships.iloc[:10]"
   ],
   "metadata": {
    "collapsed": false,
    "ExecuteTime": {
     "end_time": "2024-02-17T13:25:12.925598800Z",
     "start_time": "2024-02-17T13:25:12.888599Z"
    }
   },
   "id": "69d63d7e1833b71c"
  },
  {
   "cell_type": "code",
   "execution_count": 46,
   "outputs": [
    {
     "data": {
      "text/plain": "(135660, 11)"
     },
     "execution_count": 46,
     "metadata": {},
     "output_type": "execute_result"
    }
   ],
   "source": [
    "relationships.shape"
   ],
   "metadata": {
    "collapsed": false,
    "ExecuteTime": {
     "end_time": "2024-02-17T13:39:41.585959500Z",
     "start_time": "2024-02-17T13:39:41.519959800Z"
    }
   },
   "id": "1e499ee18d7a2d11"
  },
  {
   "cell_type": "code",
   "execution_count": 47,
   "outputs": [
    {
     "data": {
      "text/plain": "                                          id  \\\n5618    0aa611d2-7b5b-418f-a8d1-f2fc284afe9b   \n6204    0baca37c-b3b1-4015-9f66-bba83c8819a6   \n9410    1197242b-aa1c-4ffc-bde3-57e6b114d06b   \n9944    1295779b-3208-4dae-9fcc-0711d04b4244   \n10904   145e06e6-c85b-4d01-bec0-edf6243c804f   \n12575   17904538-c922-4b98-b86e-1708375e0c00   \n16787   1f89cb7d-ae77-4628-b338-34c3c30384d4   \n17904   21a33e67-79e8-460c-ac49-6cf0b473352f   \n18890   239d0ca0-1eda-4368-b557-923577e1ddc2   \n19246   244e7b91-899c-4240-b88e-a1ce0550b0af   \n29298   374b0b73-2e59-44b9-adb2-201bf1f8e1ea   \n33687   3f730edd-234d-4681-835a-e41bbe994b26   \n35527   43025f00-b597-46be-86f5-0ba52bc80925   \n38919   495fe9ef-7c72-4427-9810-fa22ec471164   \n43095   5169ac94-09aa-4a29-900d-e4fc21813b34   \n48716   5bea1246-bc94-4c03-baa9-3932f7fe4e71   \n52508   62f47593-bab7-4121-bc97-1039b8a9b899   \n61237   737d364a-787c-43d1-8afe-f9c9c1859981   \n61527   7406fc82-9953-4d98-a02f-bebc5a264bef   \n62201   75416784-16e4-4c5a-81b1-23e19c2ed000   \n63057   76c3d1ca-02d6-4c4b-98b1-13bf4243a516   \n66505   7d639759-11db-4bf1-8a4b-2dcd7981595a   \n66619   7d95ee5b-022f-4c8f-abe0-6e40433d249d   \n67944   80144540-c25a-4b2e-9cf3-ef20c4728520   \n68839   81c6f52b-44ca-4031-94f6-282ca7c34cb3   \n70874   858e8462-0d48-448a-8a5f-dfe10c46af9e   \n70909   859c33a8-d83e-4c5e-8bd2-cd7b61ae3d76   \n70960   85b1618f-6031-45c8-bcfb-83fcaa9f21fa   \n77769   92b097f4-ab41-4d39-8474-f95db8b1e7f2   \n79285   95802561-5972-4469-8804-e30228aea07d   \n82542   9bbd3bdb-ecaa-4f61-97ed-2ec5290eac82   \n84302   9f158304-54d8-41b5-87d7-1d312fb5f939   \n87440   a4fff81c-e7f7-4c4a-8b3e-c92ce3f28d4f   \n89325   a8935f8c-3ab3-4c11-aa81-4cc9f4440c8a   \n95744   b4b71b93-11e4-4a58-9a72-b11628d5ba7e   \n106133  c85856e6-6960-4820-99ff-0a15d549afaf   \n110895  d1614eec-f5ce-479f-b5b9-8d57bdd6dec7   \n115657  da406b25-39a1-451f-9211-cd12c6eaf071   \n117394  dd735c7d-1a3f-44a6-81bb-d07662341dfd   \n118414  df4b9b66-6858-43ab-9b84-8cb6d589aca4   \n121380  e4e6666f-295d-4f0a-82c3-9b2519b844d1   \n121895  e5e07791-7741-48f0-9830-87d1da4f6075   \n\n                                             from_node_id  \\\n5618    entity:factually incorrect responses or \"hallu...   \n6204             entity:\"do not generate abusive content\"   \n9410                entity:features of \"low-quality\" code   \n9944                              entity:\"pick and place\"   \n10904                             entity:T\\\"ULU 2+DPO 70B   \n12575                           entity:\"in-the-wild\" data   \n16787                                       entity:T\\\"ULU   \n17904   entity:pipelines of safety techniques (\"protoc...   \n18890                     entity:annotation \"blind spots\"   \n19246                                        entity:\"Bob\"   \n29298                               entity:T\\\"ULU 2 suite   \n33687                               entity:T\\\"ULU 2 suite   \n35527                               entity:T\\\"ULU 2 suite   \n38919                             entity:\"pick and place\"   \n43095                                entity:T\\\"ULU-V2-mix   \n48716                 entity:\"I don't know\" (Idk) dataset   \n52508   entity:pipelines of safety techniques (\"protoc...   \n61237                      entity:ChatGPT \"gpt-3.5-turbo\"   \n61527                                entity:CODE T\\\"ULU 2   \n62201                                       entity:T\\\"ULU   \n63057                 entity:\"I don't know\" (Idk) dataset   \n66505                                        entity:\"Bob\"   \n66619                        entity:model \"hallucination\"   \n67944                                entity:CODE T\\\"ULU 2   \n68839                        entity:\"a helpful assistant\"   \n70874                      entity:ChatGPT \"gpt-3.5-turbo\"   \n70909       entity:localization --\"grounding\"-- abilities   \n70960                entity:BabyLM \"strict-small\" dataset   \n77769                        entity:model \"hallucination\"   \n79285   entity:factually incorrect responses or \"hallu...   \n82542       entity:localization --\"grounding\"-- abilities   \n84302                                entity:T\\\"ULU-V2-mix   \n87440               entity:features of \"low-quality\" code   \n89325                                     entity:T\\\"ULU 2   \n95744            entity:\"do not generate abusive content\"   \n106133                          entity:\"in-the-wild\" data   \n110895                              entity:T\\\"ULU 2 suite   \n115657                       entity:\"a helpful assistant\"   \n117394                            entity:T\\\"ULU 2+DPO 70B   \n118414                                    entity:T\\\"ULU 2   \n121380                    entity:annotation \"blind spots\"   \n121895               entity:BabyLM \"strict-small\" dataset   \n\n                                  to_node_id   record_type  \\\n5618    0746670b-2ee0-4216-930c-cf119e21aaa9  relationship   \n6204                        entity_type:rule  relationship   \n9410    e7e7c3b8-cbfe-4ef6-96e7-8e186ba471a9  relationship   \n9944                        entity_type:task  relationship   \n10904                      entity_type:model  relationship   \n12575                    entity_type:dataset  relationship   \n16787   78bfe4f8-7d92-4728-9313-931bf57487b8  relationship   \n17904   4f2b19a4-3afd-4778-9c9e-0b13c06c134b  relationship   \n18890                      entity_type:issue  relationship   \n19246   4c436121-434f-441a-a3e6-44cb4aa68454  relationship   \n29298   cfcead3d-5283-40a3-a6ed-83656ffcb667  relationship   \n33687                entity_type:model suite  relationship   \n35527                entity_type:model suite  relationship   \n38919   b68d3b81-41d4-433e-812f-91abb23992c6  relationship   \n43095         entity_type:dataset collection  relationship   \n48716                    entity_type:dataset  relationship   \n52508                  entity_type:technique  relationship   \n61237                      entity_type:model  relationship   \n61527   8f94d53e-0a33-4ce0-85bb-ca03a3aaef19  relationship   \n62201                      entity_type:model  relationship   \n63057   02ed3f55-8e39-49d7-b2fb-750ed3c5fbc9  relationship   \n66505                    entity_type:keyword  relationship   \n66619                      entity_type:issue  relationship   \n67944                      entity_type:model  relationship   \n68839                       entity_type:role  relationship   \n70874   d5911c34-cbe8-49dd-8331-01cfecdd74ed  relationship   \n70909   ccdef487-8271-44cc-8fee-5ef2be760792  relationship   \n70960                    entity_type:dataset  relationship   \n77769   a0182767-292e-4fee-a76a-9ae203953acf  relationship   \n79285                      entity_type:issue  relationship   \n82542                    entity_type:ability  relationship   \n84302   37b3a1f1-93b2-49c7-9086-a539856e5639  relationship   \n87440                    entity_type:feature  relationship   \n89325   b2323ac5-b2b9-438c-99fa-913796d654de  relationship   \n95744   406f9871-399e-43a2-a774-b939175e8fbd  relationship   \n106133  a054c733-3cd1-41aa-9cd2-815469275388  relationship   \n110895  17e61ee9-9a9e-4a2b-a2f9-3f428c39c9d6  relationship   \n115657  0eecb3ea-bc87-4f8c-beb7-d85f18d535ab  relationship   \n117394  9d3a6ce7-d5ba-4519-af21-9f20cbc427f8  relationship   \n118414               entity_type:model suite  relationship   \n121380  21a94f8f-a2aa-4530-87df-a55b6cb98ed3  relationship   \n121895  2b07e874-881d-4643-bcae-1a9cab7cf881  relationship   \n\n                                          id            type_id meta  \\\n5618    0aa611d2-7b5b-418f-a8d1-f2fc284afe9b  GraphRelationship   {}   \n6204    0baca37c-b3b1-4015-9f66-bba83c8819a6  GraphRelationship   {}   \n9410    1197242b-aa1c-4ffc-bde3-57e6b114d06b  GraphRelationship   {}   \n9944    1295779b-3208-4dae-9fcc-0711d04b4244  GraphRelationship   {}   \n10904   145e06e6-c85b-4d01-bec0-edf6243c804f  GraphRelationship   {}   \n12575   17904538-c922-4b98-b86e-1708375e0c00  GraphRelationship   {}   \n16787   1f89cb7d-ae77-4628-b338-34c3c30384d4  GraphRelationship   {}   \n17904   21a33e67-79e8-460c-ac49-6cf0b473352f  GraphRelationship   {}   \n18890   239d0ca0-1eda-4368-b557-923577e1ddc2  GraphRelationship   {}   \n19246   244e7b91-899c-4240-b88e-a1ce0550b0af  GraphRelationship   {}   \n29298   374b0b73-2e59-44b9-adb2-201bf1f8e1ea  GraphRelationship   {}   \n33687   3f730edd-234d-4681-835a-e41bbe994b26  GraphRelationship   {}   \n35527   43025f00-b597-46be-86f5-0ba52bc80925  GraphRelationship   {}   \n38919   495fe9ef-7c72-4427-9810-fa22ec471164  GraphRelationship   {}   \n43095   5169ac94-09aa-4a29-900d-e4fc21813b34  GraphRelationship   {}   \n48716   5bea1246-bc94-4c03-baa9-3932f7fe4e71  GraphRelationship   {}   \n52508   62f47593-bab7-4121-bc97-1039b8a9b899  GraphRelationship   {}   \n61237   737d364a-787c-43d1-8afe-f9c9c1859981  GraphRelationship   {}   \n61527   7406fc82-9953-4d98-a02f-bebc5a264bef  GraphRelationship   {}   \n62201   75416784-16e4-4c5a-81b1-23e19c2ed000  GraphRelationship   {}   \n63057   76c3d1ca-02d6-4c4b-98b1-13bf4243a516  GraphRelationship   {}   \n66505   7d639759-11db-4bf1-8a4b-2dcd7981595a  GraphRelationship   {}   \n66619   7d95ee5b-022f-4c8f-abe0-6e40433d249d  GraphRelationship   {}   \n67944   80144540-c25a-4b2e-9cf3-ef20c4728520  GraphRelationship   {}   \n68839   81c6f52b-44ca-4031-94f6-282ca7c34cb3  GraphRelationship   {}   \n70874   858e8462-0d48-448a-8a5f-dfe10c46af9e  GraphRelationship   {}   \n70909   859c33a8-d83e-4c5e-8bd2-cd7b61ae3d76  GraphRelationship   {}   \n70960   85b1618f-6031-45c8-bcfb-83fcaa9f21fa  GraphRelationship   {}   \n77769   92b097f4-ab41-4d39-8474-f95db8b1e7f2  GraphRelationship   {}   \n79285   95802561-5972-4469-8804-e30228aea07d  GraphRelationship   {}   \n82542   9bbd3bdb-ecaa-4f61-97ed-2ec5290eac82  GraphRelationship   {}   \n84302   9f158304-54d8-41b5-87d7-1d312fb5f939  GraphRelationship   {}   \n87440   a4fff81c-e7f7-4c4a-8b3e-c92ce3f28d4f  GraphRelationship   {}   \n89325   a8935f8c-3ab3-4c11-aa81-4cc9f4440c8a  GraphRelationship   {}   \n95744   b4b71b93-11e4-4a58-9a72-b11628d5ba7e  GraphRelationship   {}   \n106133  c85856e6-6960-4820-99ff-0a15d549afaf  GraphRelationship   {}   \n110895  d1614eec-f5ce-479f-b5b9-8d57bdd6dec7  GraphRelationship   {}   \n115657  da406b25-39a1-451f-9211-cd12c6eaf071  GraphRelationship   {}   \n117394  dd735c7d-1a3f-44a6-81bb-d07662341dfd  GraphRelationship   {}   \n118414  df4b9b66-6858-43ab-9b84-8cb6d589aca4  GraphRelationship   {}   \n121380  e4e6666f-295d-4f0a-82c3-9b2519b844d1  GraphRelationship   {}   \n121895  e5e07791-7741-48f0-9830-87d1da4f6075  GraphRelationship   {}   \n\n                text               created_date  date status  \n5618    mentioned in 2024-02-11 14:13:30.200965  None         \n6204            is a 2024-02-11 14:39:19.429281  None         \n9410    mentioned in 2024-02-11 14:08:31.408719  None         \n9944            is a 2024-02-11 13:35:16.267208  None         \n10904           is a 2024-02-11 14:31:03.442290  None         \n12575           is a 2024-02-11 13:24:02.509468  None         \n16787   mentioned in 2024-02-11 14:31:03.439790  None         \n17904   mentioned in 2024-02-11 14:04:45.557151  None         \n18890           is a 2024-02-11 14:10:37.631171  None         \n19246   mentioned in 2024-02-11 14:11:22.992692  None         \n29298   mentioned in 2024-02-11 14:31:03.444290  None         \n33687           is a 2024-02-11 14:31:03.443790  None         \n35527           is a 2024-02-11 14:31:03.444290  None         \n38919   mentioned in 2024-02-11 13:35:16.267208  None         \n43095           is a 2024-02-11 14:31:03.441290  None         \n48716           is a 2024-02-11 13:24:02.642005  None         \n52508           is a 2024-02-11 14:04:45.557151  None         \n61237           is a 2024-02-11 14:01:40.630812  None         \n61527   mentioned in 2024-02-11 14:31:03.442793  None         \n62201           is a 2024-02-11 14:31:03.440291  None         \n63057   mentioned in 2024-02-11 13:24:02.642005  None         \n66505           is a 2024-02-11 14:11:22.993192  None         \n66619           is a 2024-02-11 14:31:46.624467  None         \n67944           is a 2024-02-11 14:31:03.442793  None         \n68839           is a 2024-02-11 14:31:33.371511  None         \n70874   mentioned in 2024-02-11 14:01:40.630812  None         \n70909   mentioned in 2024-02-11 14:04:52.962891  None         \n70960           is a 2024-02-11 14:10:00.427929  None         \n77769   mentioned in 2024-02-11 14:31:46.624467  None         \n79285           is a 2024-02-11 14:13:30.200965  None         \n82542           is a 2024-02-11 14:04:52.962891  None         \n84302   mentioned in 2024-02-11 14:31:03.441290  None         \n87440           is a 2024-02-11 14:08:31.408719  None         \n89325   mentioned in 2024-02-11 14:31:03.440790  None         \n95744   mentioned in 2024-02-11 14:39:19.429281  None         \n106133  mentioned in 2024-02-11 13:24:02.509468  None         \n110895  mentioned in 2024-02-11 14:31:03.443790  None         \n115657  mentioned in 2024-02-11 14:31:33.371511  None         \n117394  mentioned in 2024-02-11 14:31:03.441790  None         \n118414          is a 2024-02-11 14:31:03.440790  None         \n121380  mentioned in 2024-02-11 14:10:37.631171  None         \n121895  mentioned in 2024-02-11 14:10:00.427430  None         ",
      "text/html": "<div>\n<style scoped>\n    .dataframe tbody tr th:only-of-type {\n        vertical-align: middle;\n    }\n\n    .dataframe tbody tr th {\n        vertical-align: top;\n    }\n\n    .dataframe thead th {\n        text-align: right;\n    }\n</style>\n<table border=\"1\" class=\"dataframe\">\n  <thead>\n    <tr style=\"text-align: right;\">\n      <th></th>\n      <th>id</th>\n      <th>from_node_id</th>\n      <th>to_node_id</th>\n      <th>record_type</th>\n      <th>id</th>\n      <th>type_id</th>\n      <th>meta</th>\n      <th>text</th>\n      <th>created_date</th>\n      <th>date</th>\n      <th>status</th>\n    </tr>\n  </thead>\n  <tbody>\n    <tr>\n      <th>5618</th>\n      <td>0aa611d2-7b5b-418f-a8d1-f2fc284afe9b</td>\n      <td>entity:factually incorrect responses or \"hallu...</td>\n      <td>0746670b-2ee0-4216-930c-cf119e21aaa9</td>\n      <td>relationship</td>\n      <td>0aa611d2-7b5b-418f-a8d1-f2fc284afe9b</td>\n      <td>GraphRelationship</td>\n      <td>{}</td>\n      <td>mentioned in</td>\n      <td>2024-02-11 14:13:30.200965</td>\n      <td>None</td>\n      <td></td>\n    </tr>\n    <tr>\n      <th>6204</th>\n      <td>0baca37c-b3b1-4015-9f66-bba83c8819a6</td>\n      <td>entity:\"do not generate abusive content\"</td>\n      <td>entity_type:rule</td>\n      <td>relationship</td>\n      <td>0baca37c-b3b1-4015-9f66-bba83c8819a6</td>\n      <td>GraphRelationship</td>\n      <td>{}</td>\n      <td>is a</td>\n      <td>2024-02-11 14:39:19.429281</td>\n      <td>None</td>\n      <td></td>\n    </tr>\n    <tr>\n      <th>9410</th>\n      <td>1197242b-aa1c-4ffc-bde3-57e6b114d06b</td>\n      <td>entity:features of \"low-quality\" code</td>\n      <td>e7e7c3b8-cbfe-4ef6-96e7-8e186ba471a9</td>\n      <td>relationship</td>\n      <td>1197242b-aa1c-4ffc-bde3-57e6b114d06b</td>\n      <td>GraphRelationship</td>\n      <td>{}</td>\n      <td>mentioned in</td>\n      <td>2024-02-11 14:08:31.408719</td>\n      <td>None</td>\n      <td></td>\n    </tr>\n    <tr>\n      <th>9944</th>\n      <td>1295779b-3208-4dae-9fcc-0711d04b4244</td>\n      <td>entity:\"pick and place\"</td>\n      <td>entity_type:task</td>\n      <td>relationship</td>\n      <td>1295779b-3208-4dae-9fcc-0711d04b4244</td>\n      <td>GraphRelationship</td>\n      <td>{}</td>\n      <td>is a</td>\n      <td>2024-02-11 13:35:16.267208</td>\n      <td>None</td>\n      <td></td>\n    </tr>\n    <tr>\n      <th>10904</th>\n      <td>145e06e6-c85b-4d01-bec0-edf6243c804f</td>\n      <td>entity:T\\\"ULU 2+DPO 70B</td>\n      <td>entity_type:model</td>\n      <td>relationship</td>\n      <td>145e06e6-c85b-4d01-bec0-edf6243c804f</td>\n      <td>GraphRelationship</td>\n      <td>{}</td>\n      <td>is a</td>\n      <td>2024-02-11 14:31:03.442290</td>\n      <td>None</td>\n      <td></td>\n    </tr>\n    <tr>\n      <th>12575</th>\n      <td>17904538-c922-4b98-b86e-1708375e0c00</td>\n      <td>entity:\"in-the-wild\" data</td>\n      <td>entity_type:dataset</td>\n      <td>relationship</td>\n      <td>17904538-c922-4b98-b86e-1708375e0c00</td>\n      <td>GraphRelationship</td>\n      <td>{}</td>\n      <td>is a</td>\n      <td>2024-02-11 13:24:02.509468</td>\n      <td>None</td>\n      <td></td>\n    </tr>\n    <tr>\n      <th>16787</th>\n      <td>1f89cb7d-ae77-4628-b338-34c3c30384d4</td>\n      <td>entity:T\\\"ULU</td>\n      <td>78bfe4f8-7d92-4728-9313-931bf57487b8</td>\n      <td>relationship</td>\n      <td>1f89cb7d-ae77-4628-b338-34c3c30384d4</td>\n      <td>GraphRelationship</td>\n      <td>{}</td>\n      <td>mentioned in</td>\n      <td>2024-02-11 14:31:03.439790</td>\n      <td>None</td>\n      <td></td>\n    </tr>\n    <tr>\n      <th>17904</th>\n      <td>21a33e67-79e8-460c-ac49-6cf0b473352f</td>\n      <td>entity:pipelines of safety techniques (\"protoc...</td>\n      <td>4f2b19a4-3afd-4778-9c9e-0b13c06c134b</td>\n      <td>relationship</td>\n      <td>21a33e67-79e8-460c-ac49-6cf0b473352f</td>\n      <td>GraphRelationship</td>\n      <td>{}</td>\n      <td>mentioned in</td>\n      <td>2024-02-11 14:04:45.557151</td>\n      <td>None</td>\n      <td></td>\n    </tr>\n    <tr>\n      <th>18890</th>\n      <td>239d0ca0-1eda-4368-b557-923577e1ddc2</td>\n      <td>entity:annotation \"blind spots\"</td>\n      <td>entity_type:issue</td>\n      <td>relationship</td>\n      <td>239d0ca0-1eda-4368-b557-923577e1ddc2</td>\n      <td>GraphRelationship</td>\n      <td>{}</td>\n      <td>is a</td>\n      <td>2024-02-11 14:10:37.631171</td>\n      <td>None</td>\n      <td></td>\n    </tr>\n    <tr>\n      <th>19246</th>\n      <td>244e7b91-899c-4240-b88e-a1ce0550b0af</td>\n      <td>entity:\"Bob\"</td>\n      <td>4c436121-434f-441a-a3e6-44cb4aa68454</td>\n      <td>relationship</td>\n      <td>244e7b91-899c-4240-b88e-a1ce0550b0af</td>\n      <td>GraphRelationship</td>\n      <td>{}</td>\n      <td>mentioned in</td>\n      <td>2024-02-11 14:11:22.992692</td>\n      <td>None</td>\n      <td></td>\n    </tr>\n    <tr>\n      <th>29298</th>\n      <td>374b0b73-2e59-44b9-adb2-201bf1f8e1ea</td>\n      <td>entity:T\\\"ULU 2 suite</td>\n      <td>cfcead3d-5283-40a3-a6ed-83656ffcb667</td>\n      <td>relationship</td>\n      <td>374b0b73-2e59-44b9-adb2-201bf1f8e1ea</td>\n      <td>GraphRelationship</td>\n      <td>{}</td>\n      <td>mentioned in</td>\n      <td>2024-02-11 14:31:03.444290</td>\n      <td>None</td>\n      <td></td>\n    </tr>\n    <tr>\n      <th>33687</th>\n      <td>3f730edd-234d-4681-835a-e41bbe994b26</td>\n      <td>entity:T\\\"ULU 2 suite</td>\n      <td>entity_type:model suite</td>\n      <td>relationship</td>\n      <td>3f730edd-234d-4681-835a-e41bbe994b26</td>\n      <td>GraphRelationship</td>\n      <td>{}</td>\n      <td>is a</td>\n      <td>2024-02-11 14:31:03.443790</td>\n      <td>None</td>\n      <td></td>\n    </tr>\n    <tr>\n      <th>35527</th>\n      <td>43025f00-b597-46be-86f5-0ba52bc80925</td>\n      <td>entity:T\\\"ULU 2 suite</td>\n      <td>entity_type:model suite</td>\n      <td>relationship</td>\n      <td>43025f00-b597-46be-86f5-0ba52bc80925</td>\n      <td>GraphRelationship</td>\n      <td>{}</td>\n      <td>is a</td>\n      <td>2024-02-11 14:31:03.444290</td>\n      <td>None</td>\n      <td></td>\n    </tr>\n    <tr>\n      <th>38919</th>\n      <td>495fe9ef-7c72-4427-9810-fa22ec471164</td>\n      <td>entity:\"pick and place\"</td>\n      <td>b68d3b81-41d4-433e-812f-91abb23992c6</td>\n      <td>relationship</td>\n      <td>495fe9ef-7c72-4427-9810-fa22ec471164</td>\n      <td>GraphRelationship</td>\n      <td>{}</td>\n      <td>mentioned in</td>\n      <td>2024-02-11 13:35:16.267208</td>\n      <td>None</td>\n      <td></td>\n    </tr>\n    <tr>\n      <th>43095</th>\n      <td>5169ac94-09aa-4a29-900d-e4fc21813b34</td>\n      <td>entity:T\\\"ULU-V2-mix</td>\n      <td>entity_type:dataset collection</td>\n      <td>relationship</td>\n      <td>5169ac94-09aa-4a29-900d-e4fc21813b34</td>\n      <td>GraphRelationship</td>\n      <td>{}</td>\n      <td>is a</td>\n      <td>2024-02-11 14:31:03.441290</td>\n      <td>None</td>\n      <td></td>\n    </tr>\n    <tr>\n      <th>48716</th>\n      <td>5bea1246-bc94-4c03-baa9-3932f7fe4e71</td>\n      <td>entity:\"I don't know\" (Idk) dataset</td>\n      <td>entity_type:dataset</td>\n      <td>relationship</td>\n      <td>5bea1246-bc94-4c03-baa9-3932f7fe4e71</td>\n      <td>GraphRelationship</td>\n      <td>{}</td>\n      <td>is a</td>\n      <td>2024-02-11 13:24:02.642005</td>\n      <td>None</td>\n      <td></td>\n    </tr>\n    <tr>\n      <th>52508</th>\n      <td>62f47593-bab7-4121-bc97-1039b8a9b899</td>\n      <td>entity:pipelines of safety techniques (\"protoc...</td>\n      <td>entity_type:technique</td>\n      <td>relationship</td>\n      <td>62f47593-bab7-4121-bc97-1039b8a9b899</td>\n      <td>GraphRelationship</td>\n      <td>{}</td>\n      <td>is a</td>\n      <td>2024-02-11 14:04:45.557151</td>\n      <td>None</td>\n      <td></td>\n    </tr>\n    <tr>\n      <th>61237</th>\n      <td>737d364a-787c-43d1-8afe-f9c9c1859981</td>\n      <td>entity:ChatGPT \"gpt-3.5-turbo\"</td>\n      <td>entity_type:model</td>\n      <td>relationship</td>\n      <td>737d364a-787c-43d1-8afe-f9c9c1859981</td>\n      <td>GraphRelationship</td>\n      <td>{}</td>\n      <td>is a</td>\n      <td>2024-02-11 14:01:40.630812</td>\n      <td>None</td>\n      <td></td>\n    </tr>\n    <tr>\n      <th>61527</th>\n      <td>7406fc82-9953-4d98-a02f-bebc5a264bef</td>\n      <td>entity:CODE T\\\"ULU 2</td>\n      <td>8f94d53e-0a33-4ce0-85bb-ca03a3aaef19</td>\n      <td>relationship</td>\n      <td>7406fc82-9953-4d98-a02f-bebc5a264bef</td>\n      <td>GraphRelationship</td>\n      <td>{}</td>\n      <td>mentioned in</td>\n      <td>2024-02-11 14:31:03.442793</td>\n      <td>None</td>\n      <td></td>\n    </tr>\n    <tr>\n      <th>62201</th>\n      <td>75416784-16e4-4c5a-81b1-23e19c2ed000</td>\n      <td>entity:T\\\"ULU</td>\n      <td>entity_type:model</td>\n      <td>relationship</td>\n      <td>75416784-16e4-4c5a-81b1-23e19c2ed000</td>\n      <td>GraphRelationship</td>\n      <td>{}</td>\n      <td>is a</td>\n      <td>2024-02-11 14:31:03.440291</td>\n      <td>None</td>\n      <td></td>\n    </tr>\n    <tr>\n      <th>63057</th>\n      <td>76c3d1ca-02d6-4c4b-98b1-13bf4243a516</td>\n      <td>entity:\"I don't know\" (Idk) dataset</td>\n      <td>02ed3f55-8e39-49d7-b2fb-750ed3c5fbc9</td>\n      <td>relationship</td>\n      <td>76c3d1ca-02d6-4c4b-98b1-13bf4243a516</td>\n      <td>GraphRelationship</td>\n      <td>{}</td>\n      <td>mentioned in</td>\n      <td>2024-02-11 13:24:02.642005</td>\n      <td>None</td>\n      <td></td>\n    </tr>\n    <tr>\n      <th>66505</th>\n      <td>7d639759-11db-4bf1-8a4b-2dcd7981595a</td>\n      <td>entity:\"Bob\"</td>\n      <td>entity_type:keyword</td>\n      <td>relationship</td>\n      <td>7d639759-11db-4bf1-8a4b-2dcd7981595a</td>\n      <td>GraphRelationship</td>\n      <td>{}</td>\n      <td>is a</td>\n      <td>2024-02-11 14:11:22.993192</td>\n      <td>None</td>\n      <td></td>\n    </tr>\n    <tr>\n      <th>66619</th>\n      <td>7d95ee5b-022f-4c8f-abe0-6e40433d249d</td>\n      <td>entity:model \"hallucination\"</td>\n      <td>entity_type:issue</td>\n      <td>relationship</td>\n      <td>7d95ee5b-022f-4c8f-abe0-6e40433d249d</td>\n      <td>GraphRelationship</td>\n      <td>{}</td>\n      <td>is a</td>\n      <td>2024-02-11 14:31:46.624467</td>\n      <td>None</td>\n      <td></td>\n    </tr>\n    <tr>\n      <th>67944</th>\n      <td>80144540-c25a-4b2e-9cf3-ef20c4728520</td>\n      <td>entity:CODE T\\\"ULU 2</td>\n      <td>entity_type:model</td>\n      <td>relationship</td>\n      <td>80144540-c25a-4b2e-9cf3-ef20c4728520</td>\n      <td>GraphRelationship</td>\n      <td>{}</td>\n      <td>is a</td>\n      <td>2024-02-11 14:31:03.442793</td>\n      <td>None</td>\n      <td></td>\n    </tr>\n    <tr>\n      <th>68839</th>\n      <td>81c6f52b-44ca-4031-94f6-282ca7c34cb3</td>\n      <td>entity:\"a helpful assistant\"</td>\n      <td>entity_type:role</td>\n      <td>relationship</td>\n      <td>81c6f52b-44ca-4031-94f6-282ca7c34cb3</td>\n      <td>GraphRelationship</td>\n      <td>{}</td>\n      <td>is a</td>\n      <td>2024-02-11 14:31:33.371511</td>\n      <td>None</td>\n      <td></td>\n    </tr>\n    <tr>\n      <th>70874</th>\n      <td>858e8462-0d48-448a-8a5f-dfe10c46af9e</td>\n      <td>entity:ChatGPT \"gpt-3.5-turbo\"</td>\n      <td>d5911c34-cbe8-49dd-8331-01cfecdd74ed</td>\n      <td>relationship</td>\n      <td>858e8462-0d48-448a-8a5f-dfe10c46af9e</td>\n      <td>GraphRelationship</td>\n      <td>{}</td>\n      <td>mentioned in</td>\n      <td>2024-02-11 14:01:40.630812</td>\n      <td>None</td>\n      <td></td>\n    </tr>\n    <tr>\n      <th>70909</th>\n      <td>859c33a8-d83e-4c5e-8bd2-cd7b61ae3d76</td>\n      <td>entity:localization --\"grounding\"-- abilities</td>\n      <td>ccdef487-8271-44cc-8fee-5ef2be760792</td>\n      <td>relationship</td>\n      <td>859c33a8-d83e-4c5e-8bd2-cd7b61ae3d76</td>\n      <td>GraphRelationship</td>\n      <td>{}</td>\n      <td>mentioned in</td>\n      <td>2024-02-11 14:04:52.962891</td>\n      <td>None</td>\n      <td></td>\n    </tr>\n    <tr>\n      <th>70960</th>\n      <td>85b1618f-6031-45c8-bcfb-83fcaa9f21fa</td>\n      <td>entity:BabyLM \"strict-small\" dataset</td>\n      <td>entity_type:dataset</td>\n      <td>relationship</td>\n      <td>85b1618f-6031-45c8-bcfb-83fcaa9f21fa</td>\n      <td>GraphRelationship</td>\n      <td>{}</td>\n      <td>is a</td>\n      <td>2024-02-11 14:10:00.427929</td>\n      <td>None</td>\n      <td></td>\n    </tr>\n    <tr>\n      <th>77769</th>\n      <td>92b097f4-ab41-4d39-8474-f95db8b1e7f2</td>\n      <td>entity:model \"hallucination\"</td>\n      <td>a0182767-292e-4fee-a76a-9ae203953acf</td>\n      <td>relationship</td>\n      <td>92b097f4-ab41-4d39-8474-f95db8b1e7f2</td>\n      <td>GraphRelationship</td>\n      <td>{}</td>\n      <td>mentioned in</td>\n      <td>2024-02-11 14:31:46.624467</td>\n      <td>None</td>\n      <td></td>\n    </tr>\n    <tr>\n      <th>79285</th>\n      <td>95802561-5972-4469-8804-e30228aea07d</td>\n      <td>entity:factually incorrect responses or \"hallu...</td>\n      <td>entity_type:issue</td>\n      <td>relationship</td>\n      <td>95802561-5972-4469-8804-e30228aea07d</td>\n      <td>GraphRelationship</td>\n      <td>{}</td>\n      <td>is a</td>\n      <td>2024-02-11 14:13:30.200965</td>\n      <td>None</td>\n      <td></td>\n    </tr>\n    <tr>\n      <th>82542</th>\n      <td>9bbd3bdb-ecaa-4f61-97ed-2ec5290eac82</td>\n      <td>entity:localization --\"grounding\"-- abilities</td>\n      <td>entity_type:ability</td>\n      <td>relationship</td>\n      <td>9bbd3bdb-ecaa-4f61-97ed-2ec5290eac82</td>\n      <td>GraphRelationship</td>\n      <td>{}</td>\n      <td>is a</td>\n      <td>2024-02-11 14:04:52.962891</td>\n      <td>None</td>\n      <td></td>\n    </tr>\n    <tr>\n      <th>84302</th>\n      <td>9f158304-54d8-41b5-87d7-1d312fb5f939</td>\n      <td>entity:T\\\"ULU-V2-mix</td>\n      <td>37b3a1f1-93b2-49c7-9086-a539856e5639</td>\n      <td>relationship</td>\n      <td>9f158304-54d8-41b5-87d7-1d312fb5f939</td>\n      <td>GraphRelationship</td>\n      <td>{}</td>\n      <td>mentioned in</td>\n      <td>2024-02-11 14:31:03.441290</td>\n      <td>None</td>\n      <td></td>\n    </tr>\n    <tr>\n      <th>87440</th>\n      <td>a4fff81c-e7f7-4c4a-8b3e-c92ce3f28d4f</td>\n      <td>entity:features of \"low-quality\" code</td>\n      <td>entity_type:feature</td>\n      <td>relationship</td>\n      <td>a4fff81c-e7f7-4c4a-8b3e-c92ce3f28d4f</td>\n      <td>GraphRelationship</td>\n      <td>{}</td>\n      <td>is a</td>\n      <td>2024-02-11 14:08:31.408719</td>\n      <td>None</td>\n      <td></td>\n    </tr>\n    <tr>\n      <th>89325</th>\n      <td>a8935f8c-3ab3-4c11-aa81-4cc9f4440c8a</td>\n      <td>entity:T\\\"ULU 2</td>\n      <td>b2323ac5-b2b9-438c-99fa-913796d654de</td>\n      <td>relationship</td>\n      <td>a8935f8c-3ab3-4c11-aa81-4cc9f4440c8a</td>\n      <td>GraphRelationship</td>\n      <td>{}</td>\n      <td>mentioned in</td>\n      <td>2024-02-11 14:31:03.440790</td>\n      <td>None</td>\n      <td></td>\n    </tr>\n    <tr>\n      <th>95744</th>\n      <td>b4b71b93-11e4-4a58-9a72-b11628d5ba7e</td>\n      <td>entity:\"do not generate abusive content\"</td>\n      <td>406f9871-399e-43a2-a774-b939175e8fbd</td>\n      <td>relationship</td>\n      <td>b4b71b93-11e4-4a58-9a72-b11628d5ba7e</td>\n      <td>GraphRelationship</td>\n      <td>{}</td>\n      <td>mentioned in</td>\n      <td>2024-02-11 14:39:19.429281</td>\n      <td>None</td>\n      <td></td>\n    </tr>\n    <tr>\n      <th>106133</th>\n      <td>c85856e6-6960-4820-99ff-0a15d549afaf</td>\n      <td>entity:\"in-the-wild\" data</td>\n      <td>a054c733-3cd1-41aa-9cd2-815469275388</td>\n      <td>relationship</td>\n      <td>c85856e6-6960-4820-99ff-0a15d549afaf</td>\n      <td>GraphRelationship</td>\n      <td>{}</td>\n      <td>mentioned in</td>\n      <td>2024-02-11 13:24:02.509468</td>\n      <td>None</td>\n      <td></td>\n    </tr>\n    <tr>\n      <th>110895</th>\n      <td>d1614eec-f5ce-479f-b5b9-8d57bdd6dec7</td>\n      <td>entity:T\\\"ULU 2 suite</td>\n      <td>17e61ee9-9a9e-4a2b-a2f9-3f428c39c9d6</td>\n      <td>relationship</td>\n      <td>d1614eec-f5ce-479f-b5b9-8d57bdd6dec7</td>\n      <td>GraphRelationship</td>\n      <td>{}</td>\n      <td>mentioned in</td>\n      <td>2024-02-11 14:31:03.443790</td>\n      <td>None</td>\n      <td></td>\n    </tr>\n    <tr>\n      <th>115657</th>\n      <td>da406b25-39a1-451f-9211-cd12c6eaf071</td>\n      <td>entity:\"a helpful assistant\"</td>\n      <td>0eecb3ea-bc87-4f8c-beb7-d85f18d535ab</td>\n      <td>relationship</td>\n      <td>da406b25-39a1-451f-9211-cd12c6eaf071</td>\n      <td>GraphRelationship</td>\n      <td>{}</td>\n      <td>mentioned in</td>\n      <td>2024-02-11 14:31:33.371511</td>\n      <td>None</td>\n      <td></td>\n    </tr>\n    <tr>\n      <th>117394</th>\n      <td>dd735c7d-1a3f-44a6-81bb-d07662341dfd</td>\n      <td>entity:T\\\"ULU 2+DPO 70B</td>\n      <td>9d3a6ce7-d5ba-4519-af21-9f20cbc427f8</td>\n      <td>relationship</td>\n      <td>dd735c7d-1a3f-44a6-81bb-d07662341dfd</td>\n      <td>GraphRelationship</td>\n      <td>{}</td>\n      <td>mentioned in</td>\n      <td>2024-02-11 14:31:03.441790</td>\n      <td>None</td>\n      <td></td>\n    </tr>\n    <tr>\n      <th>118414</th>\n      <td>df4b9b66-6858-43ab-9b84-8cb6d589aca4</td>\n      <td>entity:T\\\"ULU 2</td>\n      <td>entity_type:model suite</td>\n      <td>relationship</td>\n      <td>df4b9b66-6858-43ab-9b84-8cb6d589aca4</td>\n      <td>GraphRelationship</td>\n      <td>{}</td>\n      <td>is a</td>\n      <td>2024-02-11 14:31:03.440790</td>\n      <td>None</td>\n      <td></td>\n    </tr>\n    <tr>\n      <th>121380</th>\n      <td>e4e6666f-295d-4f0a-82c3-9b2519b844d1</td>\n      <td>entity:annotation \"blind spots\"</td>\n      <td>21a94f8f-a2aa-4530-87df-a55b6cb98ed3</td>\n      <td>relationship</td>\n      <td>e4e6666f-295d-4f0a-82c3-9b2519b844d1</td>\n      <td>GraphRelationship</td>\n      <td>{}</td>\n      <td>mentioned in</td>\n      <td>2024-02-11 14:10:37.631171</td>\n      <td>None</td>\n      <td></td>\n    </tr>\n    <tr>\n      <th>121895</th>\n      <td>e5e07791-7741-48f0-9830-87d1da4f6075</td>\n      <td>entity:BabyLM \"strict-small\" dataset</td>\n      <td>2b07e874-881d-4643-bcae-1a9cab7cf881</td>\n      <td>relationship</td>\n      <td>e5e07791-7741-48f0-9830-87d1da4f6075</td>\n      <td>GraphRelationship</td>\n      <td>{}</td>\n      <td>mentioned in</td>\n      <td>2024-02-11 14:10:00.427430</td>\n      <td>None</td>\n      <td></td>\n    </tr>\n  </tbody>\n</table>\n</div>"
     },
     "execution_count": 47,
     "metadata": {},
     "output_type": "execute_result"
    }
   ],
   "source": [
    "relationships[relationships[\"from_node_id\"].str.contains(\"\\\"\")]\n"
   ],
   "metadata": {
    "collapsed": false,
    "ExecuteTime": {
     "end_time": "2024-02-17T14:10:46.858972900Z",
     "start_time": "2024-02-17T14:10:46.698940200Z"
    }
   },
   "id": "bfd9c21c3c1d48d8"
  },
  {
   "cell_type": "code",
   "execution_count": 49,
   "outputs": [
    {
     "data": {
      "text/plain": "                                                    id type_id  \\\n123                       entity:model's vulnerability  Entity   \n307                   entity:LLM's internal confidence  Entity   \n309            entity:model's actual confidence levels  Entity   \n1552                           entity:baseline's trend  Entity   \n4476                           entity:model's response  Entity   \n...                                                ...     ...   \n64434      entity:LLaMA's state-of-the-art performance  Entity   \n64477  entity:seven unique facets of GPT-4V's behavior  Entity   \n66549                      entity:system's superiority  Entity   \n68710               entity:student model's performance  Entity   \n68785                entity:GPT-4 model's immense size  Entity   \n\n                                           text               created_date  \\\n123                       model's vulnerability 2024-02-11 13:20:00.305209   \n307                   LLM's internal confidence 2024-02-11 13:20:11.304555   \n309            model's actual confidence levels 2024-02-11 13:20:11.304555   \n1552                           baseline's trend 2024-02-11 13:22:00.873029   \n4476                           model's response 2024-02-11 13:22:20.957437   \n...                                         ...                        ...   \n64434      LLaMA's state-of-the-art performance 2024-02-11 14:43:48.791781   \n64477  seven unique facets of GPT-4V's behavior 2024-02-11 14:44:00.149281   \n66549                      system's superiority 2024-02-11 13:24:21.819805   \n68710               student model's performance 2024-02-11 13:19:46.987343   \n68785                GPT-4 model's immense size 2024-02-11 13:19:54.638175   \n\n      date status title  \n123    NaT          NaN  \n307    NaT          NaN  \n309    NaT          NaN  \n1552   NaT          NaN  \n4476   NaT          NaN  \n...    ...    ...   ...  \n64434  NaT          NaN  \n64477  NaT          NaN  \n66549  NaT          NaN  \n68710  NaT          NaN  \n68785  NaT          NaN  \n\n[443 rows x 7 columns]",
      "text/html": "<div>\n<style scoped>\n    .dataframe tbody tr th:only-of-type {\n        vertical-align: middle;\n    }\n\n    .dataframe tbody tr th {\n        vertical-align: top;\n    }\n\n    .dataframe thead th {\n        text-align: right;\n    }\n</style>\n<table border=\"1\" class=\"dataframe\">\n  <thead>\n    <tr style=\"text-align: right;\">\n      <th></th>\n      <th>id</th>\n      <th>type_id</th>\n      <th>text</th>\n      <th>created_date</th>\n      <th>date</th>\n      <th>status</th>\n      <th>title</th>\n    </tr>\n  </thead>\n  <tbody>\n    <tr>\n      <th>123</th>\n      <td>entity:model's vulnerability</td>\n      <td>Entity</td>\n      <td>model's vulnerability</td>\n      <td>2024-02-11 13:20:00.305209</td>\n      <td>NaT</td>\n      <td></td>\n      <td>NaN</td>\n    </tr>\n    <tr>\n      <th>307</th>\n      <td>entity:LLM's internal confidence</td>\n      <td>Entity</td>\n      <td>LLM's internal confidence</td>\n      <td>2024-02-11 13:20:11.304555</td>\n      <td>NaT</td>\n      <td></td>\n      <td>NaN</td>\n    </tr>\n    <tr>\n      <th>309</th>\n      <td>entity:model's actual confidence levels</td>\n      <td>Entity</td>\n      <td>model's actual confidence levels</td>\n      <td>2024-02-11 13:20:11.304555</td>\n      <td>NaT</td>\n      <td></td>\n      <td>NaN</td>\n    </tr>\n    <tr>\n      <th>1552</th>\n      <td>entity:baseline's trend</td>\n      <td>Entity</td>\n      <td>baseline's trend</td>\n      <td>2024-02-11 13:22:00.873029</td>\n      <td>NaT</td>\n      <td></td>\n      <td>NaN</td>\n    </tr>\n    <tr>\n      <th>4476</th>\n      <td>entity:model's response</td>\n      <td>Entity</td>\n      <td>model's response</td>\n      <td>2024-02-11 13:22:20.957437</td>\n      <td>NaT</td>\n      <td></td>\n      <td>NaN</td>\n    </tr>\n    <tr>\n      <th>...</th>\n      <td>...</td>\n      <td>...</td>\n      <td>...</td>\n      <td>...</td>\n      <td>...</td>\n      <td>...</td>\n      <td>...</td>\n    </tr>\n    <tr>\n      <th>64434</th>\n      <td>entity:LLaMA's state-of-the-art performance</td>\n      <td>Entity</td>\n      <td>LLaMA's state-of-the-art performance</td>\n      <td>2024-02-11 14:43:48.791781</td>\n      <td>NaT</td>\n      <td></td>\n      <td>NaN</td>\n    </tr>\n    <tr>\n      <th>64477</th>\n      <td>entity:seven unique facets of GPT-4V's behavior</td>\n      <td>Entity</td>\n      <td>seven unique facets of GPT-4V's behavior</td>\n      <td>2024-02-11 14:44:00.149281</td>\n      <td>NaT</td>\n      <td></td>\n      <td>NaN</td>\n    </tr>\n    <tr>\n      <th>66549</th>\n      <td>entity:system's superiority</td>\n      <td>Entity</td>\n      <td>system's superiority</td>\n      <td>2024-02-11 13:24:21.819805</td>\n      <td>NaT</td>\n      <td></td>\n      <td>NaN</td>\n    </tr>\n    <tr>\n      <th>68710</th>\n      <td>entity:student model's performance</td>\n      <td>Entity</td>\n      <td>student model's performance</td>\n      <td>2024-02-11 13:19:46.987343</td>\n      <td>NaT</td>\n      <td></td>\n      <td>NaN</td>\n    </tr>\n    <tr>\n      <th>68785</th>\n      <td>entity:GPT-4 model's immense size</td>\n      <td>Entity</td>\n      <td>GPT-4 model's immense size</td>\n      <td>2024-02-11 13:19:54.638175</td>\n      <td>NaT</td>\n      <td></td>\n      <td>NaN</td>\n    </tr>\n  </tbody>\n</table>\n<p>443 rows × 7 columns</p>\n</div>"
     },
     "execution_count": 49,
     "metadata": {},
     "output_type": "execute_result"
    }
   ],
   "source": [
    "nodes_save[nodes_save[\"id\"].str.contains(\"'\")]"
   ],
   "metadata": {
    "collapsed": false,
    "ExecuteTime": {
     "end_time": "2024-02-17T14:11:31.314859300Z",
     "start_time": "2024-02-17T14:11:31.233364300Z"
    }
   },
   "id": "1b82e697a5a42ce7"
  }
 ],
 "metadata": {
  "kernelspec": {
   "display_name": "Python 3",
   "language": "python",
   "name": "python3"
  },
  "language_info": {
   "codemirror_mode": {
    "name": "ipython",
    "version": 2
   },
   "file_extension": ".py",
   "mimetype": "text/x-python",
   "name": "python",
   "nbconvert_exporter": "python",
   "pygments_lexer": "ipython2",
   "version": "2.7.6"
  }
 },
 "nbformat": 4,
 "nbformat_minor": 5
}
